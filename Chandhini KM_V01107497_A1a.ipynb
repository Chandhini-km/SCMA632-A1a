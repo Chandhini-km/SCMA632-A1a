{
 "cells": [
  {
   "cell_type": "code",
   "execution_count": 1,
   "id": "d617b7f3",
   "metadata": {},
   "outputs": [],
   "source": [
    "import os \n",
    "import pandas as pd\n",
    "import numpy as np"
   ]
  },
  {
   "cell_type": "code",
   "execution_count": 6,
   "id": "c77a2d77",
   "metadata": {},
   "outputs": [],
   "source": [
    "os.chdir(\"C:\\\\Users\\\\Chand\\\\Downloads\\\\Assignment1\")"
   ]
  },
  {
   "cell_type": "code",
   "execution_count": 8,
   "id": "1d9297ee",
   "metadata": {},
   "outputs": [],
   "source": [
    "df=pd.read_csv(\"NSSO68.csv\",encoding=\"Latin-1\", low_memory=False)"
   ]
  },
  {
   "cell_type": "code",
   "execution_count": 9,
   "id": "d4086090",
   "metadata": {},
   "outputs": [
    {
     "data": {
      "text/html": [
       "<div>\n",
       "<style scoped>\n",
       "    .dataframe tbody tr th:only-of-type {\n",
       "        vertical-align: middle;\n",
       "    }\n",
       "\n",
       "    .dataframe tbody tr th {\n",
       "        vertical-align: top;\n",
       "    }\n",
       "\n",
       "    .dataframe thead th {\n",
       "        text-align: right;\n",
       "    }\n",
       "</style>\n",
       "<table border=\"1\" class=\"dataframe\">\n",
       "  <thead>\n",
       "    <tr style=\"text-align: right;\">\n",
       "      <th></th>\n",
       "      <th>slno</th>\n",
       "      <th>grp</th>\n",
       "      <th>Round_Centre</th>\n",
       "      <th>FSU_number</th>\n",
       "      <th>Round</th>\n",
       "      <th>Schedule_Number</th>\n",
       "      <th>Sample</th>\n",
       "      <th>Sector</th>\n",
       "      <th>state</th>\n",
       "      <th>State_Region</th>\n",
       "      <th>...</th>\n",
       "      <th>pickle_v</th>\n",
       "      <th>sauce_jam_v</th>\n",
       "      <th>Othrprocessed_v</th>\n",
       "      <th>Beveragestotal_v</th>\n",
       "      <th>foodtotal_v</th>\n",
       "      <th>foodtotal_q</th>\n",
       "      <th>state_1</th>\n",
       "      <th>Region</th>\n",
       "      <th>fruits_df_tt_v</th>\n",
       "      <th>fv_tot</th>\n",
       "    </tr>\n",
       "  </thead>\n",
       "  <tbody>\n",
       "    <tr>\n",
       "      <th>0</th>\n",
       "      <td>1</td>\n",
       "      <td>4.10E+31</td>\n",
       "      <td>1</td>\n",
       "      <td>41000</td>\n",
       "      <td>68</td>\n",
       "      <td>10</td>\n",
       "      <td>1</td>\n",
       "      <td>2</td>\n",
       "      <td>24</td>\n",
       "      <td>242</td>\n",
       "      <td>...</td>\n",
       "      <td>0.0</td>\n",
       "      <td>0.0</td>\n",
       "      <td>0.0</td>\n",
       "      <td>0.000000</td>\n",
       "      <td>1141.492400</td>\n",
       "      <td>30.942394</td>\n",
       "      <td>GUJ</td>\n",
       "      <td>2</td>\n",
       "      <td>12.000000</td>\n",
       "      <td>154.18</td>\n",
       "    </tr>\n",
       "    <tr>\n",
       "      <th>1</th>\n",
       "      <td>2</td>\n",
       "      <td>4.10E+31</td>\n",
       "      <td>1</td>\n",
       "      <td>41000</td>\n",
       "      <td>68</td>\n",
       "      <td>10</td>\n",
       "      <td>1</td>\n",
       "      <td>2</td>\n",
       "      <td>24</td>\n",
       "      <td>242</td>\n",
       "      <td>...</td>\n",
       "      <td>0.0</td>\n",
       "      <td>0.0</td>\n",
       "      <td>0.0</td>\n",
       "      <td>17.500000</td>\n",
       "      <td>1244.553500</td>\n",
       "      <td>29.286153</td>\n",
       "      <td>GUJ</td>\n",
       "      <td>2</td>\n",
       "      <td>333.000000</td>\n",
       "      <td>484.95</td>\n",
       "    </tr>\n",
       "    <tr>\n",
       "      <th>2</th>\n",
       "      <td>3</td>\n",
       "      <td>4.10E+31</td>\n",
       "      <td>1</td>\n",
       "      <td>41000</td>\n",
       "      <td>68</td>\n",
       "      <td>10</td>\n",
       "      <td>1</td>\n",
       "      <td>2</td>\n",
       "      <td>24</td>\n",
       "      <td>242</td>\n",
       "      <td>...</td>\n",
       "      <td>0.0</td>\n",
       "      <td>0.0</td>\n",
       "      <td>0.0</td>\n",
       "      <td>0.000000</td>\n",
       "      <td>1050.315400</td>\n",
       "      <td>31.527046</td>\n",
       "      <td>GUJ</td>\n",
       "      <td>2</td>\n",
       "      <td>35.000000</td>\n",
       "      <td>214.84</td>\n",
       "    </tr>\n",
       "    <tr>\n",
       "      <th>3</th>\n",
       "      <td>4</td>\n",
       "      <td>4.10E+31</td>\n",
       "      <td>1</td>\n",
       "      <td>41000</td>\n",
       "      <td>68</td>\n",
       "      <td>10</td>\n",
       "      <td>1</td>\n",
       "      <td>2</td>\n",
       "      <td>24</td>\n",
       "      <td>242</td>\n",
       "      <td>...</td>\n",
       "      <td>0.0</td>\n",
       "      <td>0.0</td>\n",
       "      <td>0.0</td>\n",
       "      <td>33.333333</td>\n",
       "      <td>1142.591667</td>\n",
       "      <td>27.834607</td>\n",
       "      <td>GUJ</td>\n",
       "      <td>2</td>\n",
       "      <td>168.333333</td>\n",
       "      <td>302.30</td>\n",
       "    </tr>\n",
       "    <tr>\n",
       "      <th>4</th>\n",
       "      <td>5</td>\n",
       "      <td>4.10E+31</td>\n",
       "      <td>1</td>\n",
       "      <td>41000</td>\n",
       "      <td>68</td>\n",
       "      <td>10</td>\n",
       "      <td>1</td>\n",
       "      <td>2</td>\n",
       "      <td>24</td>\n",
       "      <td>242</td>\n",
       "      <td>...</td>\n",
       "      <td>0.0</td>\n",
       "      <td>0.0</td>\n",
       "      <td>0.0</td>\n",
       "      <td>75.000000</td>\n",
       "      <td>945.249500</td>\n",
       "      <td>27.600713</td>\n",
       "      <td>GUJ</td>\n",
       "      <td>2</td>\n",
       "      <td>15.000000</td>\n",
       "      <td>148.00</td>\n",
       "    </tr>\n",
       "  </tbody>\n",
       "</table>\n",
       "<p>5 rows × 384 columns</p>\n",
       "</div>"
      ],
      "text/plain": [
       "   slno       grp  Round_Centre  FSU_number  Round  Schedule_Number  Sample  \\\n",
       "0     1  4.10E+31             1       41000     68               10       1   \n",
       "1     2  4.10E+31             1       41000     68               10       1   \n",
       "2     3  4.10E+31             1       41000     68               10       1   \n",
       "3     4  4.10E+31             1       41000     68               10       1   \n",
       "4     5  4.10E+31             1       41000     68               10       1   \n",
       "\n",
       "   Sector  state  State_Region  ...  pickle_v  sauce_jam_v  Othrprocessed_v  \\\n",
       "0       2     24           242  ...       0.0          0.0              0.0   \n",
       "1       2     24           242  ...       0.0          0.0              0.0   \n",
       "2       2     24           242  ...       0.0          0.0              0.0   \n",
       "3       2     24           242  ...       0.0          0.0              0.0   \n",
       "4       2     24           242  ...       0.0          0.0              0.0   \n",
       "\n",
       "   Beveragestotal_v  foodtotal_v  foodtotal_q  state_1  Region  \\\n",
       "0          0.000000  1141.492400    30.942394      GUJ       2   \n",
       "1         17.500000  1244.553500    29.286153      GUJ       2   \n",
       "2          0.000000  1050.315400    31.527046      GUJ       2   \n",
       "3         33.333333  1142.591667    27.834607      GUJ       2   \n",
       "4         75.000000   945.249500    27.600713      GUJ       2   \n",
       "\n",
       "   fruits_df_tt_v  fv_tot  \n",
       "0       12.000000  154.18  \n",
       "1      333.000000  484.95  \n",
       "2       35.000000  214.84  \n",
       "3      168.333333  302.30  \n",
       "4       15.000000  148.00  \n",
       "\n",
       "[5 rows x 384 columns]"
      ]
     },
     "execution_count": 9,
     "metadata": {},
     "output_type": "execute_result"
    }
   ],
   "source": [
    "df.head()"
   ]
  },
  {
   "cell_type": "code",
   "execution_count": 33,
   "id": "dbcae249",
   "metadata": {},
   "outputs": [
    {
     "data": {
      "text/plain": [
       "array(['GUJ', 'ORI', 'CHTSD', 'MP', 'JRKD', 'WB', 'AP', 'MH', 'D&D',\n",
       "       'D&NH', 'MIZ', 'TRPR', 'MANPR', 'ASSM', 'MEG', 'NAG', 'A&N',\n",
       "       'PNDCRY', 'TN', 'GOA', 'KA', 'KE', 'LKSDP', 'SKM', 'Bhr', 'UP',\n",
       "       'RJ', 'ARP', 'DL', 'HR', 'Pun', 'HP', 'UT', 'Chandr', 'J$K'],\n",
       "      dtype=object)"
      ]
     },
     "execution_count": 33,
     "metadata": {},
     "output_type": "execute_result"
    }
   ],
   "source": [
    "df.state_1.unique()"
   ]
  },
  {
   "cell_type": "code",
   "execution_count": 34,
   "id": "19a4e673",
   "metadata": {},
   "outputs": [],
   "source": [
    "Mizoram = df[df['state_1']==\"MIZ\"]"
   ]
  },
  {
   "cell_type": "code",
   "execution_count": 35,
   "id": "9ecb62ab",
   "metadata": {},
   "outputs": [
    {
     "data": {
      "text/plain": [
       "soyabean_v         1536\n",
       "soyabean_q         1536\n",
       "Land_Leased_out    1517\n",
       "Meals_School       1508\n",
       "Meals_Employer     1496\n",
       "                   ... \n",
       "bhindi_q              0\n",
       "chillig_q             0\n",
       "palak_q               0\n",
       "carrot_q              0\n",
       "fv_tot                0\n",
       "Length: 384, dtype: int64"
      ]
     },
     "execution_count": 35,
     "metadata": {},
     "output_type": "execute_result"
    }
   ],
   "source": [
    "Mizoram.isnull().sum().sort_values(ascending = False)"
   ]
  },
  {
   "cell_type": "code",
   "execution_count": 36,
   "id": "f06e6269",
   "metadata": {},
   "outputs": [
    {
     "data": {
      "text/plain": [
       "Index(['slno', 'grp', 'Round_Centre', 'FSU_number', 'Round', 'Schedule_Number',\n",
       "       'Sample', 'Sector', 'state', 'State_Region',\n",
       "       ...\n",
       "       'pickle_v', 'sauce_jam_v', 'Othrprocessed_v', 'Beveragestotal_v',\n",
       "       'foodtotal_v', 'foodtotal_q', 'state_1', 'Region', 'fruits_df_tt_v',\n",
       "       'fv_tot'],\n",
       "      dtype='object', length=384)"
      ]
     },
     "execution_count": 36,
     "metadata": {},
     "output_type": "execute_result"
    }
   ],
   "source": [
    "df.columns"
   ]
  },
  {
   "cell_type": "code",
   "execution_count": 38,
   "id": "294aa436",
   "metadata": {},
   "outputs": [],
   "source": [
    "MZ_new = Mizoram[['state_1', 'District', 'Sector','Region','State_Region','ricetotal_q','wheattotal_q','moong_q','Milktotal_q','chicken_q','bread_q','foodtotal_q','Beveragestotal_v','Meals_At_Home']]"
   ]
  },
  {
   "cell_type": "code",
   "execution_count": 39,
   "id": "2c6f5e57",
   "metadata": {},
   "outputs": [
    {
     "data": {
      "text/plain": [
       "state_1             0\n",
       "District            0\n",
       "Sector              0\n",
       "Region              0\n",
       "State_Region        0\n",
       "ricetotal_q         0\n",
       "wheattotal_q        0\n",
       "moong_q             0\n",
       "Milktotal_q         0\n",
       "chicken_q           0\n",
       "bread_q             0\n",
       "foodtotal_q         0\n",
       "Beveragestotal_v    0\n",
       "Meals_At_Home       0\n",
       "dtype: int64"
      ]
     },
     "execution_count": 39,
     "metadata": {},
     "output_type": "execute_result"
    }
   ],
   "source": [
    "MZ_new.isnull().sum().sort_values(ascending = False)"
   ]
  },
  {
   "cell_type": "code",
   "execution_count": 40,
   "id": "47b600a4",
   "metadata": {},
   "outputs": [],
   "source": [
    "MZ_clean = MZ_new.copy()"
   ]
  },
  {
   "cell_type": "code",
   "execution_count": 41,
   "id": "ecf53ac9",
   "metadata": {},
   "outputs": [],
   "source": [
    "MZ_clean.loc[:, 'Meals_At_Home'] = MZ_clean['Meals_At_Home'].fillna(MZ_new['Meals_At_Home'].mean())"
   ]
  },
  {
   "cell_type": "code",
   "execution_count": 42,
   "id": "48513fd4",
   "metadata": {},
   "outputs": [
    {
     "data": {
      "text/plain": [
       "state_1             False\n",
       "District            False\n",
       "Sector              False\n",
       "Region              False\n",
       "State_Region        False\n",
       "ricetotal_q         False\n",
       "wheattotal_q        False\n",
       "moong_q             False\n",
       "Milktotal_q         False\n",
       "chicken_q           False\n",
       "bread_q             False\n",
       "foodtotal_q         False\n",
       "Beveragestotal_v    False\n",
       "Meals_At_Home       False\n",
       "dtype: bool"
      ]
     },
     "execution_count": 42,
     "metadata": {},
     "output_type": "execute_result"
    }
   ],
   "source": [
    "MZ_clean.isnull().any()"
   ]
  },
  {
   "cell_type": "markdown",
   "id": "9ff62ce9",
   "metadata": {},
   "source": [
    "# Outlier Checking"
   ]
  },
  {
   "cell_type": "code",
   "execution_count": 43,
   "id": "c1c43545",
   "metadata": {},
   "outputs": [
    {
     "data": {
      "image/png": "[encoded data removed]",
      "text/plain": [
       "<Figure size 800x600 with 1 Axes>"
      ]
     },
     "metadata": {},
     "output_type": "display_data"
    }
   ],
   "source": [
    "import matplotlib.pyplot as plt\n",
    "# Assuming MZ_clean is your DataFrame\n",
    "plt.figure(figsize=(8, 6))\n",
    "plt.boxplot(MZ_clean['ricetotal_q'])\n",
    "plt.xlabel('ricetotal_q')\n",
    "plt.ylabel('Values')\n",
    "plt.title('Boxplot of ricetotal_q')\n",
    "plt.show()"
   ]
  },
  {
   "cell_type": "code",
   "execution_count": 44,
   "id": "ce8f4913",
   "metadata": {},
   "outputs": [],
   "source": [
    "rice1 = MZ_clean['ricetotal_q'].quantile(0.25)\n",
    "rice2 = MZ_clean['ricetotal_q'].quantile(0.75)\n",
    "iqr_rice = rice2-rice1\n",
    "up_limit = rice2 + 1.5*iqr_rice\n",
    "low_limit = rice1 - 1.5*iqr_rice"
   ]
  },
  {
   "cell_type": "code",
   "execution_count": 45,
   "id": "93a3de50",
   "metadata": {},
   "outputs": [],
   "source": [
    "MZ_clean=MZ_new[(MZ_new['ricetotal_q']<=up_limit)&(MZ_new['ricetotal_q']>=low_limit)]"
   ]
  },
  {
   "cell_type": "code",
   "execution_count": 46,
   "id": "c71b74f7",
   "metadata": {},
   "outputs": [
    {
     "data": {
      "text/plain": [
       "{'whiskers': [<matplotlib.lines.Line2D at 0x19700d79e50>,\n",
       "  <matplotlib.lines.Line2D at 0x19700d7a910>],\n",
       " 'caps': [<matplotlib.lines.Line2D at 0x19700d7b1d0>,\n",
       "  <matplotlib.lines.Line2D at 0x19700d7bbd0>],\n",
       " 'boxes': [<matplotlib.lines.Line2D at 0x19700d794d0>],\n",
       " 'medians': [<matplotlib.lines.Line2D at 0x19700d59150>],\n",
       " 'fliers': [<matplotlib.lines.Line2D at 0x19700d257d0>],\n",
       " 'means': []}"
      ]
     },
     "execution_count": 46,
     "metadata": {},
     "output_type": "execute_result"
    },
    {
     "data": {
      "image/png": "[encoded data removed]",
      "text/plain": [
       "<Figure size 640x480 with 1 Axes>"
      ]
     },
     "metadata": {},
     "output_type": "display_data"
    }
   ],
   "source": [
    "plt.boxplot(MZ_clean['ricetotal_q'])"
   ]
  },
  {
   "cell_type": "code",
   "execution_count": 47,
   "id": "2d4f008b",
   "metadata": {},
   "outputs": [
    {
     "data": {
      "text/plain": [
       "array([5, 3, 4, 6, 8, 2, 1, 7], dtype=int64)"
      ]
     },
     "execution_count": 47,
     "metadata": {},
     "output_type": "execute_result"
    }
   ],
   "source": [
    "MZ_clean['District'].unique()"
   ]
  },
  {
   "cell_type": "code",
   "execution_count": 48,
   "id": "e9e4cf77",
   "metadata": {},
   "outputs": [],
   "source": [
    "# Replace values in the 'Sector' column\n",
    "MZ_clean.loc[:,'Sector'] = MZ_clean['Sector'].replace([1, 2], ['URBAN', 'RURAL'])"
   ]
  },
  {
   "cell_type": "code",
   "execution_count": null,
   "id": "dc83d3f4",
   "metadata": {},
   "outputs": [],
   "source": [
    "#total consumption"
   ]
  },
  {
   "cell_type": "code",
   "execution_count": 50,
   "id": "42c08c50",
   "metadata": {},
   "outputs": [
    {
     "data": {
      "text/plain": [
       "Index(['state_1', 'District', 'Sector', 'Region', 'State_Region',\n",
       "       'ricetotal_q', 'wheattotal_q', 'moong_q', 'Milktotal_q', 'chicken_q',\n",
       "       'bread_q', 'foodtotal_q', 'Beveragestotal_v', 'Meals_At_Home'],\n",
       "      dtype='object')"
      ]
     },
     "execution_count": 50,
     "metadata": {},
     "output_type": "execute_result"
    }
   ],
   "source": [
    "MZ_clean.columns"
   ]
  },
  {
   "cell_type": "code",
   "execution_count": 53,
   "id": "76008e65",
   "metadata": {},
   "outputs": [
    {
     "name": "stderr",
     "output_type": "stream",
     "text": [
      "C:\\Users\\Chand\\AppData\\Local\\Temp\\ipykernel_5160\\2469891472.py:1: SettingWithCopyWarning: \n",
      "A value is trying to be set on a copy of a slice from a DataFrame.\n",
      "Try using .loc[row_indexer,col_indexer] = value instead\n",
      "\n",
      "See the caveats in the documentation: https://pandas.pydata.org/pandas-docs/stable/user_guide/indexing.html#returning-a-view-versus-a-copy\n",
      "  MZ_clean.loc[:, 'total_consumption'] = MZ_clean[['ricetotal_q', 'wheattotal_q', 'moong_q', 'Milktotal_q', 'chicken_q', 'bread_q', 'foodtotal_q', 'Beveragestotal_v']].sum(axis=1)\n"
     ]
    }
   ],
   "source": [
    "MZ_clean.loc[:, 'total_consumption'] = MZ_clean[['ricetotal_q', 'wheattotal_q', 'moong_q', 'Milktotal_q', 'chicken_q', 'bread_q', 'foodtotal_q', 'Beveragestotal_v']].sum(axis=1)"
   ]
  },
  {
   "cell_type": "code",
   "execution_count": 54,
   "id": "b7639d63",
   "metadata": {},
   "outputs": [
    {
     "data": {
      "text/html": [
       "<div>\n",
       "<style scoped>\n",
       "    .dataframe tbody tr th:only-of-type {\n",
       "        vertical-align: middle;\n",
       "    }\n",
       "\n",
       "    .dataframe tbody tr th {\n",
       "        vertical-align: top;\n",
       "    }\n",
       "\n",
       "    .dataframe thead th {\n",
       "        text-align: right;\n",
       "    }\n",
       "</style>\n",
       "<table border=\"1\" class=\"dataframe\">\n",
       "  <thead>\n",
       "    <tr style=\"text-align: right;\">\n",
       "      <th></th>\n",
       "      <th>state_1</th>\n",
       "      <th>District</th>\n",
       "      <th>Sector</th>\n",
       "      <th>Region</th>\n",
       "      <th>State_Region</th>\n",
       "      <th>ricetotal_q</th>\n",
       "      <th>wheattotal_q</th>\n",
       "      <th>moong_q</th>\n",
       "      <th>Milktotal_q</th>\n",
       "      <th>chicken_q</th>\n",
       "      <th>bread_q</th>\n",
       "      <th>foodtotal_q</th>\n",
       "      <th>Beveragestotal_v</th>\n",
       "      <th>Meals_At_Home</th>\n",
       "      <th>total_consumption</th>\n",
       "    </tr>\n",
       "  </thead>\n",
       "  <tbody>\n",
       "    <tr>\n",
       "      <th>14581</th>\n",
       "      <td>MIZ</td>\n",
       "      <td>5</td>\n",
       "      <td>RURAL</td>\n",
       "      <td>1</td>\n",
       "      <td>151</td>\n",
       "      <td>11.5</td>\n",
       "      <td>0.0</td>\n",
       "      <td>0.0</td>\n",
       "      <td>0</td>\n",
       "      <td>0.0</td>\n",
       "      <td>0.0</td>\n",
       "      <td>26.150425</td>\n",
       "      <td>75.016750</td>\n",
       "      <td>60.0</td>\n",
       "      <td>112.667175</td>\n",
       "    </tr>\n",
       "    <tr>\n",
       "      <th>14582</th>\n",
       "      <td>MIZ</td>\n",
       "      <td>5</td>\n",
       "      <td>RURAL</td>\n",
       "      <td>1</td>\n",
       "      <td>151</td>\n",
       "      <td>14.0</td>\n",
       "      <td>0.0</td>\n",
       "      <td>0.0</td>\n",
       "      <td>0</td>\n",
       "      <td>0.0</td>\n",
       "      <td>0.0</td>\n",
       "      <td>26.333717</td>\n",
       "      <td>73.360000</td>\n",
       "      <td>60.0</td>\n",
       "      <td>113.693717</td>\n",
       "    </tr>\n",
       "    <tr>\n",
       "      <th>14583</th>\n",
       "      <td>MIZ</td>\n",
       "      <td>5</td>\n",
       "      <td>RURAL</td>\n",
       "      <td>1</td>\n",
       "      <td>151</td>\n",
       "      <td>14.0</td>\n",
       "      <td>0.0</td>\n",
       "      <td>0.0</td>\n",
       "      <td>0</td>\n",
       "      <td>0.0</td>\n",
       "      <td>0.0</td>\n",
       "      <td>21.714536</td>\n",
       "      <td>64.285714</td>\n",
       "      <td>60.0</td>\n",
       "      <td>100.000250</td>\n",
       "    </tr>\n",
       "    <tr>\n",
       "      <th>14584</th>\n",
       "      <td>MIZ</td>\n",
       "      <td>5</td>\n",
       "      <td>RURAL</td>\n",
       "      <td>1</td>\n",
       "      <td>151</td>\n",
       "      <td>12.5</td>\n",
       "      <td>0.0</td>\n",
       "      <td>0.0</td>\n",
       "      <td>0</td>\n",
       "      <td>0.0</td>\n",
       "      <td>0.0</td>\n",
       "      <td>18.900725</td>\n",
       "      <td>50.000000</td>\n",
       "      <td>60.0</td>\n",
       "      <td>81.400725</td>\n",
       "    </tr>\n",
       "    <tr>\n",
       "      <th>14585</th>\n",
       "      <td>MIZ</td>\n",
       "      <td>5</td>\n",
       "      <td>RURAL</td>\n",
       "      <td>1</td>\n",
       "      <td>151</td>\n",
       "      <td>14.0</td>\n",
       "      <td>0.0</td>\n",
       "      <td>0.0</td>\n",
       "      <td>0</td>\n",
       "      <td>0.0</td>\n",
       "      <td>0.0</td>\n",
       "      <td>22.150217</td>\n",
       "      <td>33.333333</td>\n",
       "      <td>60.0</td>\n",
       "      <td>69.483550</td>\n",
       "    </tr>\n",
       "  </tbody>\n",
       "</table>\n",
       "</div>"
      ],
      "text/plain": [
       "      state_1  District Sector  Region  State_Region  ricetotal_q  \\\n",
       "14581     MIZ         5  RURAL       1           151         11.5   \n",
       "14582     MIZ         5  RURAL       1           151         14.0   \n",
       "14583     MIZ         5  RURAL       1           151         14.0   \n",
       "14584     MIZ         5  RURAL       1           151         12.5   \n",
       "14585     MIZ         5  RURAL       1           151         14.0   \n",
       "\n",
       "       wheattotal_q  moong_q  Milktotal_q  chicken_q  bread_q  foodtotal_q  \\\n",
       "14581           0.0      0.0            0        0.0      0.0    26.150425   \n",
       "14582           0.0      0.0            0        0.0      0.0    26.333717   \n",
       "14583           0.0      0.0            0        0.0      0.0    21.714536   \n",
       "14584           0.0      0.0            0        0.0      0.0    18.900725   \n",
       "14585           0.0      0.0            0        0.0      0.0    22.150217   \n",
       "\n",
       "       Beveragestotal_v  Meals_At_Home  total_consumption  \n",
       "14581         75.016750           60.0         112.667175  \n",
       "14582         73.360000           60.0         113.693717  \n",
       "14583         64.285714           60.0         100.000250  \n",
       "14584         50.000000           60.0          81.400725  \n",
       "14585         33.333333           60.0          69.483550  "
      ]
     },
     "execution_count": 54,
     "metadata": {},
     "output_type": "execute_result"
    }
   ],
   "source": [
    "MZ_clean.head()"
   ]
  },
  {
   "cell_type": "code",
   "execution_count": 55,
   "id": "dd05e5e1",
   "metadata": {},
   "outputs": [
    {
     "data": {
      "text/html": [
       "<div>\n",
       "<style scoped>\n",
       "    .dataframe tbody tr th:only-of-type {\n",
       "        vertical-align: middle;\n",
       "    }\n",
       "\n",
       "    .dataframe tbody tr th {\n",
       "        vertical-align: top;\n",
       "    }\n",
       "\n",
       "    .dataframe thead tr th {\n",
       "        text-align: left;\n",
       "    }\n",
       "\n",
       "    .dataframe thead tr:last-of-type th {\n",
       "        text-align: right;\n",
       "    }\n",
       "</style>\n",
       "<table border=\"1\" class=\"dataframe\">\n",
       "  <thead>\n",
       "    <tr>\n",
       "      <th></th>\n",
       "      <th colspan=\"4\" halign=\"left\">total_consumption</th>\n",
       "    </tr>\n",
       "    <tr>\n",
       "      <th></th>\n",
       "      <th>std</th>\n",
       "      <th>mean</th>\n",
       "      <th>max</th>\n",
       "      <th>min</th>\n",
       "    </tr>\n",
       "    <tr>\n",
       "      <th>Region</th>\n",
       "      <th></th>\n",
       "      <th></th>\n",
       "      <th></th>\n",
       "      <th></th>\n",
       "    </tr>\n",
       "  </thead>\n",
       "  <tbody>\n",
       "    <tr>\n",
       "      <th>1</th>\n",
       "      <td>33.336697</td>\n",
       "      <td>66.123427</td>\n",
       "      <td>262.1517</td>\n",
       "      <td>18.125375</td>\n",
       "    </tr>\n",
       "  </tbody>\n",
       "</table>\n",
       "</div>"
      ],
      "text/plain": [
       "       total_consumption                                \n",
       "                     std       mean       max        min\n",
       "Region                                                  \n",
       "1              33.336697  66.123427  262.1517  18.125375"
      ]
     },
     "execution_count": 55,
     "metadata": {},
     "output_type": "execute_result"
    }
   ],
   "source": [
    "MZ_clean.groupby('Region').agg({'total_consumption':['std','mean','max','min']})"
   ]
  },
  {
   "cell_type": "code",
   "execution_count": 56,
   "id": "5b170d84",
   "metadata": {},
   "outputs": [
    {
     "data": {
      "text/html": [
       "<div>\n",
       "<style scoped>\n",
       "    .dataframe tbody tr th:only-of-type {\n",
       "        vertical-align: middle;\n",
       "    }\n",
       "\n",
       "    .dataframe tbody tr th {\n",
       "        vertical-align: top;\n",
       "    }\n",
       "\n",
       "    .dataframe thead tr th {\n",
       "        text-align: left;\n",
       "    }\n",
       "\n",
       "    .dataframe thead tr:last-of-type th {\n",
       "        text-align: right;\n",
       "    }\n",
       "</style>\n",
       "<table border=\"1\" class=\"dataframe\">\n",
       "  <thead>\n",
       "    <tr>\n",
       "      <th></th>\n",
       "      <th colspan=\"4\" halign=\"left\">total_consumption</th>\n",
       "    </tr>\n",
       "    <tr>\n",
       "      <th></th>\n",
       "      <th>std</th>\n",
       "      <th>mean</th>\n",
       "      <th>max</th>\n",
       "      <th>min</th>\n",
       "    </tr>\n",
       "    <tr>\n",
       "      <th>District</th>\n",
       "      <th></th>\n",
       "      <th></th>\n",
       "      <th></th>\n",
       "      <th></th>\n",
       "    </tr>\n",
       "  </thead>\n",
       "  <tbody>\n",
       "    <tr>\n",
       "      <th>1</th>\n",
       "      <td>30.512021</td>\n",
       "      <td>58.097936</td>\n",
       "      <td>221.133850</td>\n",
       "      <td>20.290060</td>\n",
       "    </tr>\n",
       "    <tr>\n",
       "      <th>2</th>\n",
       "      <td>27.342637</td>\n",
       "      <td>64.671109</td>\n",
       "      <td>173.970920</td>\n",
       "      <td>27.333550</td>\n",
       "    </tr>\n",
       "    <tr>\n",
       "      <th>3</th>\n",
       "      <td>39.089556</td>\n",
       "      <td>71.123278</td>\n",
       "      <td>262.151700</td>\n",
       "      <td>18.125375</td>\n",
       "    </tr>\n",
       "    <tr>\n",
       "      <th>4</th>\n",
       "      <td>29.357248</td>\n",
       "      <td>62.174005</td>\n",
       "      <td>175.053975</td>\n",
       "      <td>19.533417</td>\n",
       "    </tr>\n",
       "    <tr>\n",
       "      <th>5</th>\n",
       "      <td>23.307330</td>\n",
       "      <td>65.793569</td>\n",
       "      <td>132.997979</td>\n",
       "      <td>28.003433</td>\n",
       "    </tr>\n",
       "    <tr>\n",
       "      <th>6</th>\n",
       "      <td>22.617188</td>\n",
       "      <td>64.163548</td>\n",
       "      <td>138.600580</td>\n",
       "      <td>21.600150</td>\n",
       "    </tr>\n",
       "    <tr>\n",
       "      <th>7</th>\n",
       "      <td>34.368719</td>\n",
       "      <td>58.191981</td>\n",
       "      <td>189.325488</td>\n",
       "      <td>20.934375</td>\n",
       "    </tr>\n",
       "    <tr>\n",
       "      <th>8</th>\n",
       "      <td>36.459862</td>\n",
       "      <td>65.172039</td>\n",
       "      <td>191.056668</td>\n",
       "      <td>22.750133</td>\n",
       "    </tr>\n",
       "  </tbody>\n",
       "</table>\n",
       "</div>"
      ],
      "text/plain": [
       "         total_consumption                                  \n",
       "                       std       mean         max        min\n",
       "District                                                    \n",
       "1                30.512021  58.097936  221.133850  20.290060\n",
       "2                27.342637  64.671109  173.970920  27.333550\n",
       "3                39.089556  71.123278  262.151700  18.125375\n",
       "4                29.357248  62.174005  175.053975  19.533417\n",
       "5                23.307330  65.793569  132.997979  28.003433\n",
       "6                22.617188  64.163548  138.600580  21.600150\n",
       "7                34.368719  58.191981  189.325488  20.934375\n",
       "8                36.459862  65.172039  191.056668  22.750133"
      ]
     },
     "execution_count": 56,
     "metadata": {},
     "output_type": "execute_result"
    }
   ],
   "source": [
    "MZ_clean.groupby('District').agg({'total_consumption':['std','mean','max','min']})"
   ]
  },
  {
   "cell_type": "code",
   "execution_count": 57,
   "id": "030d09b7",
   "metadata": {},
   "outputs": [],
   "source": [
    "total_consumption_by_districtcode=MZ_clean.groupby('District')['total_consumption'].sum()"
   ]
  },
  {
   "cell_type": "code",
   "execution_count": 58,
   "id": "399b4a51",
   "metadata": {},
   "outputs": [
    {
     "data": {
      "text/plain": [
       "District\n",
       "3    42958.460200\n",
       "6    15912.559962\n",
       "4    11937.408986\n",
       "Name: total_consumption, dtype: float64"
      ]
     },
     "execution_count": 58,
     "metadata": {},
     "output_type": "execute_result"
    }
   ],
   "source": [
    "total_consumption_by_districtcode.sort_values(ascending=False).head(3)"
   ]
  },
  {
   "cell_type": "code",
   "execution_count": 59,
   "id": "925ea2d5",
   "metadata": {},
   "outputs": [],
   "source": [
    "from statsmodels.stats import weightstats as stests"
   ]
  },
  {
   "cell_type": "code",
   "execution_count": 60,
   "id": "ef84ee8a",
   "metadata": {},
   "outputs": [],
   "source": [
    "rural=MZ_clean[MZ_clean['Sector']==\"RURAL\"]\n",
    "urban=MZ_clean[MZ_clean['Sector']==\"URBAN\"]"
   ]
  },
  {
   "cell_type": "code",
   "execution_count": 61,
   "id": "f1137c30",
   "metadata": {},
   "outputs": [
    {
     "data": {
      "text/html": [
       "<div>\n",
       "<style scoped>\n",
       "    .dataframe tbody tr th:only-of-type {\n",
       "        vertical-align: middle;\n",
       "    }\n",
       "\n",
       "    .dataframe tbody tr th {\n",
       "        vertical-align: top;\n",
       "    }\n",
       "\n",
       "    .dataframe thead th {\n",
       "        text-align: right;\n",
       "    }\n",
       "</style>\n",
       "<table border=\"1\" class=\"dataframe\">\n",
       "  <thead>\n",
       "    <tr style=\"text-align: right;\">\n",
       "      <th></th>\n",
       "      <th>state_1</th>\n",
       "      <th>District</th>\n",
       "      <th>Sector</th>\n",
       "      <th>Region</th>\n",
       "      <th>State_Region</th>\n",
       "      <th>ricetotal_q</th>\n",
       "      <th>wheattotal_q</th>\n",
       "      <th>moong_q</th>\n",
       "      <th>Milktotal_q</th>\n",
       "      <th>chicken_q</th>\n",
       "      <th>bread_q</th>\n",
       "      <th>foodtotal_q</th>\n",
       "      <th>Beveragestotal_v</th>\n",
       "      <th>Meals_At_Home</th>\n",
       "      <th>total_consumption</th>\n",
       "    </tr>\n",
       "  </thead>\n",
       "  <tbody>\n",
       "    <tr>\n",
       "      <th>14581</th>\n",
       "      <td>MIZ</td>\n",
       "      <td>5</td>\n",
       "      <td>RURAL</td>\n",
       "      <td>1</td>\n",
       "      <td>151</td>\n",
       "      <td>11.5</td>\n",
       "      <td>0.0</td>\n",
       "      <td>0.0</td>\n",
       "      <td>0</td>\n",
       "      <td>0.0</td>\n",
       "      <td>0.0</td>\n",
       "      <td>26.150425</td>\n",
       "      <td>75.016750</td>\n",
       "      <td>60.0</td>\n",
       "      <td>112.667175</td>\n",
       "    </tr>\n",
       "    <tr>\n",
       "      <th>14582</th>\n",
       "      <td>MIZ</td>\n",
       "      <td>5</td>\n",
       "      <td>RURAL</td>\n",
       "      <td>1</td>\n",
       "      <td>151</td>\n",
       "      <td>14.0</td>\n",
       "      <td>0.0</td>\n",
       "      <td>0.0</td>\n",
       "      <td>0</td>\n",
       "      <td>0.0</td>\n",
       "      <td>0.0</td>\n",
       "      <td>26.333717</td>\n",
       "      <td>73.360000</td>\n",
       "      <td>60.0</td>\n",
       "      <td>113.693717</td>\n",
       "    </tr>\n",
       "    <tr>\n",
       "      <th>14583</th>\n",
       "      <td>MIZ</td>\n",
       "      <td>5</td>\n",
       "      <td>RURAL</td>\n",
       "      <td>1</td>\n",
       "      <td>151</td>\n",
       "      <td>14.0</td>\n",
       "      <td>0.0</td>\n",
       "      <td>0.0</td>\n",
       "      <td>0</td>\n",
       "      <td>0.0</td>\n",
       "      <td>0.0</td>\n",
       "      <td>21.714536</td>\n",
       "      <td>64.285714</td>\n",
       "      <td>60.0</td>\n",
       "      <td>100.000250</td>\n",
       "    </tr>\n",
       "    <tr>\n",
       "      <th>14584</th>\n",
       "      <td>MIZ</td>\n",
       "      <td>5</td>\n",
       "      <td>RURAL</td>\n",
       "      <td>1</td>\n",
       "      <td>151</td>\n",
       "      <td>12.5</td>\n",
       "      <td>0.0</td>\n",
       "      <td>0.0</td>\n",
       "      <td>0</td>\n",
       "      <td>0.0</td>\n",
       "      <td>0.0</td>\n",
       "      <td>18.900725</td>\n",
       "      <td>50.000000</td>\n",
       "      <td>60.0</td>\n",
       "      <td>81.400725</td>\n",
       "    </tr>\n",
       "    <tr>\n",
       "      <th>14585</th>\n",
       "      <td>MIZ</td>\n",
       "      <td>5</td>\n",
       "      <td>RURAL</td>\n",
       "      <td>1</td>\n",
       "      <td>151</td>\n",
       "      <td>14.0</td>\n",
       "      <td>0.0</td>\n",
       "      <td>0.0</td>\n",
       "      <td>0</td>\n",
       "      <td>0.0</td>\n",
       "      <td>0.0</td>\n",
       "      <td>22.150217</td>\n",
       "      <td>33.333333</td>\n",
       "      <td>60.0</td>\n",
       "      <td>69.483550</td>\n",
       "    </tr>\n",
       "  </tbody>\n",
       "</table>\n",
       "</div>"
      ],
      "text/plain": [
       "      state_1  District Sector  Region  State_Region  ricetotal_q  \\\n",
       "14581     MIZ         5  RURAL       1           151         11.5   \n",
       "14582     MIZ         5  RURAL       1           151         14.0   \n",
       "14583     MIZ         5  RURAL       1           151         14.0   \n",
       "14584     MIZ         5  RURAL       1           151         12.5   \n",
       "14585     MIZ         5  RURAL       1           151         14.0   \n",
       "\n",
       "       wheattotal_q  moong_q  Milktotal_q  chicken_q  bread_q  foodtotal_q  \\\n",
       "14581           0.0      0.0            0        0.0      0.0    26.150425   \n",
       "14582           0.0      0.0            0        0.0      0.0    26.333717   \n",
       "14583           0.0      0.0            0        0.0      0.0    21.714536   \n",
       "14584           0.0      0.0            0        0.0      0.0    18.900725   \n",
       "14585           0.0      0.0            0        0.0      0.0    22.150217   \n",
       "\n",
       "       Beveragestotal_v  Meals_At_Home  total_consumption  \n",
       "14581         75.016750           60.0         112.667175  \n",
       "14582         73.360000           60.0         113.693717  \n",
       "14583         64.285714           60.0         100.000250  \n",
       "14584         50.000000           60.0          81.400725  \n",
       "14585         33.333333           60.0          69.483550  "
      ]
     },
     "execution_count": 61,
     "metadata": {},
     "output_type": "execute_result"
    }
   ],
   "source": [
    "rural.head()"
   ]
  },
  {
   "cell_type": "code",
   "execution_count": 62,
   "id": "4eb5e55c",
   "metadata": {},
   "outputs": [
    {
     "data": {
      "text/html": [
       "<div>\n",
       "<style scoped>\n",
       "    .dataframe tbody tr th:only-of-type {\n",
       "        vertical-align: middle;\n",
       "    }\n",
       "\n",
       "    .dataframe tbody tr th {\n",
       "        vertical-align: top;\n",
       "    }\n",
       "\n",
       "    .dataframe thead th {\n",
       "        text-align: right;\n",
       "    }\n",
       "</style>\n",
       "<table border=\"1\" class=\"dataframe\">\n",
       "  <thead>\n",
       "    <tr style=\"text-align: right;\">\n",
       "      <th></th>\n",
       "      <th>state_1</th>\n",
       "      <th>District</th>\n",
       "      <th>Sector</th>\n",
       "      <th>Region</th>\n",
       "      <th>State_Region</th>\n",
       "      <th>ricetotal_q</th>\n",
       "      <th>wheattotal_q</th>\n",
       "      <th>moong_q</th>\n",
       "      <th>Milktotal_q</th>\n",
       "      <th>chicken_q</th>\n",
       "      <th>bread_q</th>\n",
       "      <th>foodtotal_q</th>\n",
       "      <th>Beveragestotal_v</th>\n",
       "      <th>Meals_At_Home</th>\n",
       "      <th>total_consumption</th>\n",
       "    </tr>\n",
       "  </thead>\n",
       "  <tbody>\n",
       "    <tr>\n",
       "      <th>46437</th>\n",
       "      <td>MIZ</td>\n",
       "      <td>3</td>\n",
       "      <td>URBAN</td>\n",
       "      <td>1</td>\n",
       "      <td>151</td>\n",
       "      <td>10.000000</td>\n",
       "      <td>0.0</td>\n",
       "      <td>0.0</td>\n",
       "      <td>0</td>\n",
       "      <td>0.166667</td>\n",
       "      <td>1.000000</td>\n",
       "      <td>19.700443</td>\n",
       "      <td>16.666667</td>\n",
       "      <td>60.0</td>\n",
       "      <td>47.533777</td>\n",
       "    </tr>\n",
       "    <tr>\n",
       "      <th>46438</th>\n",
       "      <td>MIZ</td>\n",
       "      <td>3</td>\n",
       "      <td>URBAN</td>\n",
       "      <td>1</td>\n",
       "      <td>151</td>\n",
       "      <td>10.000000</td>\n",
       "      <td>0.0</td>\n",
       "      <td>0.0</td>\n",
       "      <td>0</td>\n",
       "      <td>0.000000</td>\n",
       "      <td>0.800000</td>\n",
       "      <td>20.228370</td>\n",
       "      <td>16.000000</td>\n",
       "      <td>90.0</td>\n",
       "      <td>47.028370</td>\n",
       "    </tr>\n",
       "    <tr>\n",
       "      <th>46439</th>\n",
       "      <td>MIZ</td>\n",
       "      <td>3</td>\n",
       "      <td>URBAN</td>\n",
       "      <td>1</td>\n",
       "      <td>151</td>\n",
       "      <td>7.500000</td>\n",
       "      <td>0.0</td>\n",
       "      <td>0.0</td>\n",
       "      <td>0</td>\n",
       "      <td>0.250000</td>\n",
       "      <td>1.000000</td>\n",
       "      <td>19.433007</td>\n",
       "      <td>22.500000</td>\n",
       "      <td>90.0</td>\n",
       "      <td>50.683008</td>\n",
       "    </tr>\n",
       "    <tr>\n",
       "      <th>46440</th>\n",
       "      <td>MIZ</td>\n",
       "      <td>3</td>\n",
       "      <td>URBAN</td>\n",
       "      <td>1</td>\n",
       "      <td>151</td>\n",
       "      <td>10.000000</td>\n",
       "      <td>0.0</td>\n",
       "      <td>0.0</td>\n",
       "      <td>0</td>\n",
       "      <td>0.000000</td>\n",
       "      <td>1.200000</td>\n",
       "      <td>22.822532</td>\n",
       "      <td>12.007000</td>\n",
       "      <td>90.0</td>\n",
       "      <td>46.029532</td>\n",
       "    </tr>\n",
       "    <tr>\n",
       "      <th>46441</th>\n",
       "      <td>MIZ</td>\n",
       "      <td>3</td>\n",
       "      <td>URBAN</td>\n",
       "      <td>1</td>\n",
       "      <td>151</td>\n",
       "      <td>8.333333</td>\n",
       "      <td>0.0</td>\n",
       "      <td>0.0</td>\n",
       "      <td>0</td>\n",
       "      <td>0.000000</td>\n",
       "      <td>0.666667</td>\n",
       "      <td>16.523750</td>\n",
       "      <td>10.011667</td>\n",
       "      <td>90.0</td>\n",
       "      <td>35.535417</td>\n",
       "    </tr>\n",
       "  </tbody>\n",
       "</table>\n",
       "</div>"
      ],
      "text/plain": [
       "      state_1  District Sector  Region  State_Region  ricetotal_q  \\\n",
       "46437     MIZ         3  URBAN       1           151    10.000000   \n",
       "46438     MIZ         3  URBAN       1           151    10.000000   \n",
       "46439     MIZ         3  URBAN       1           151     7.500000   \n",
       "46440     MIZ         3  URBAN       1           151    10.000000   \n",
       "46441     MIZ         3  URBAN       1           151     8.333333   \n",
       "\n",
       "       wheattotal_q  moong_q  Milktotal_q  chicken_q   bread_q  foodtotal_q  \\\n",
       "46437           0.0      0.0            0   0.166667  1.000000    19.700443   \n",
       "46438           0.0      0.0            0   0.000000  0.800000    20.228370   \n",
       "46439           0.0      0.0            0   0.250000  1.000000    19.433007   \n",
       "46440           0.0      0.0            0   0.000000  1.200000    22.822532   \n",
       "46441           0.0      0.0            0   0.000000  0.666667    16.523750   \n",
       "\n",
       "       Beveragestotal_v  Meals_At_Home  total_consumption  \n",
       "46437         16.666667           60.0          47.533777  \n",
       "46438         16.000000           90.0          47.028370  \n",
       "46439         22.500000           90.0          50.683008  \n",
       "46440         12.007000           90.0          46.029532  \n",
       "46441         10.011667           90.0          35.535417  "
      ]
     },
     "execution_count": 62,
     "metadata": {},
     "output_type": "execute_result"
    }
   ],
   "source": [
    "urban.head()"
   ]
  },
  {
   "cell_type": "code",
   "execution_count": 63,
   "id": "72973a14",
   "metadata": {},
   "outputs": [],
   "source": [
    "cons_rural=rural['total_consumption']\n",
    "cons_urban=urban['total_consumption']"
   ]
  },
  {
   "cell_type": "code",
   "execution_count": 64,
   "id": "4f1b7d1e",
   "metadata": {},
   "outputs": [
    {
     "name": "stdout",
     "output_type": "stream",
     "text": [
      "Z-Score: 7.620621784877728\n",
      "P-Value: 2.5245665015280363e-14\n"
     ]
    }
   ],
   "source": [
    "z_statistic, p_value = stests.ztest(cons_rural, cons_urban)\n",
    "# Print the z-score and p-value\n",
    "print(\"Z-Score:\", z_statistic)\n",
    "print(\"P-Value:\", p_value)"
   ]
  },
  {
   "cell_type": "code",
   "execution_count": null,
   "id": "b3d8aa2f",
   "metadata": {},
   "outputs": [],
   "source": []
  }
 ],
 "metadata": {
  "kernelspec": {
   "display_name": "Python 3 (ipykernel)",
   "language": "python",
   "name": "python3"
  },
  "language_info": {
   "codemirror_mode": {
    "name": "ipython",
    "version": 3
   },
   "file_extension": ".py",
   "mimetype": "text/x-python",
   "name": "python",
   "nbconvert_exporter": "python",
   "pygments_lexer": "ipython3",
   "version": "3.11.5"
  }
 },
 "nbformat": 4,
 "nbformat_minor": 5
}
